{
 "cells": [
  {
   "cell_type": "markdown",
   "metadata": {},
   "source": [
    "# Process Approved Variants\n",
    "\n",
    "This notebook:\n",
    "1. Loads approved variants from the CSV file\n",
    "2. Copies variants to S3 with new variant IDs (original ID * 100000)\n",
    "3. Updates the Redshift database\n",
    "4. Updates the API image list"
   ]
  },
  {
   "cell_type": "code",
   "execution_count": 10,
   "metadata": {},
   "outputs": [],
   "source": [
    "# Import the module with all the functions\n",
    "from process_approved_variants import *"
   ]
  },
  {
   "cell_type": "code",
   "execution_count": 35,
   "metadata": {},
   "outputs": [],
   "source": [
    "import pandas as pd\n",
    "df = pd.read_csv('approved250.csv')\n",
    "df = df.drop(columns=['Unnamed: 0'])\n",
    "df_rejected = df[df['review_result']!='approved']\n"
   ]
  },
  {
   "cell_type": "markdown",
   "metadata": {},
   "source": [
    "## 1. Load and filter approved images"
   ]
  },
  {
   "cell_type": "code",
   "execution_count": 36,
   "metadata": {},
   "outputs": [
    {
     "name": "stdout",
     "output_type": "stream",
     "text": [
      "Cost summary by approval status:\n",
      "  review_result  total_cost  count\n",
      "0      approved  $38.408490    140\n",
      "1      rejected  $25.685630     95\n",
      "\n",
      "Overall total cost: $64.094120\n",
      "Overall count: 235\n"
     ]
    }
   ],
   "source": [
    "import pandas as pd\n",
    "import json\n",
    "import re\n",
    "\n",
    "\n",
    "# Function to safely parse the token info column\n",
    "def extract_cost(token_info):\n",
    "    try:\n",
    "        # Handle if it's already a dict\n",
    "        if isinstance(token_info, dict):\n",
    "            return float(token_info.get('Cost', '0').replace('$', ''))\n",
    "        \n",
    "        # Try to parse as JSON if it's a string\n",
    "        if isinstance(token_info, str):\n",
    "            # Clean up any potential invalid JSON formatting\n",
    "            cleaned = token_info.replace(\"'\", '\"')\n",
    "            data = json.loads(cleaned)\n",
    "            return float(data.get('Cost', '0').replace('$', ''))\n",
    "    except:\n",
    "        # If JSON parsing fails, try regex\n",
    "        try:\n",
    "            cost_match = re.search(r\"'Cost': '\\$([\\d.]+)'\", str(token_info))\n",
    "            if cost_match:\n",
    "                return float(cost_match.group(1))\n",
    "        except:\n",
    "            pass\n",
    "    return 0.0\n",
    "\n",
    "# Extract cost from token info column\n",
    "df['extracted_cost'] = df['token_info'].apply(extract_cost)\n",
    "\n",
    "# Calculate total cost and count by review result\n",
    "cost_summary = df.groupby('review_result').agg(\n",
    "    total_cost=('extracted_cost', 'sum'),\n",
    "    count=('extracted_cost', 'count')\n",
    ").reset_index()\n",
    "\n",
    "# Format the cost with $ sign\n",
    "cost_summary['total_cost'] = cost_summary['total_cost'].apply(lambda x: f\"${x:.6f}\")\n",
    "\n",
    "print(\"Cost summary by approval status:\")\n",
    "print(cost_summary)\n",
    "\n",
    "# Calculate overall total\n",
    "overall_total_cost = df['extracted_cost'].sum()\n",
    "overall_count = len(df)\n",
    "\n",
    "print(f\"\\nOverall total cost: ${overall_total_cost:.6f}\")\n",
    "print(f\"Overall count: {overall_count}\")"
   ]
  },
  {
   "cell_type": "code",
   "execution_count": 37,
   "metadata": {},
   "outputs": [
    {
     "data": {
      "text/plain": [
       "140"
      ]
     },
     "execution_count": 37,
     "metadata": {},
     "output_type": "execute_result"
    }
   ],
   "source": [
    "approved_df = df[df['review_result']=='approved']\n",
    "len(approved_df)"
   ]
  },
  {
   "cell_type": "markdown",
   "metadata": {},
   "source": [
    "## 2. Prepare data for Redshift"
   ]
  },
  {
   "cell_type": "code",
   "execution_count": 38,
   "metadata": {},
   "outputs": [
    {
     "name": "stdout",
     "output_type": "stream",
     "text": [
      "Preparing data for Redshift...\n",
      "Prepared 140 rows for Redshift\n"
     ]
    },
    {
     "data": {
      "text/html": [
       "<div>\n",
       "<style scoped>\n",
       "    .dataframe tbody tr th:only-of-type {\n",
       "        vertical-align: middle;\n",
       "    }\n",
       "\n",
       "    .dataframe tbody tr th {\n",
       "        vertical-align: top;\n",
       "    }\n",
       "\n",
       "    .dataframe thead th {\n",
       "        text-align: right;\n",
       "    }\n",
       "</style>\n",
       "<table border=\"1\" class=\"dataframe\">\n",
       "  <thead>\n",
       "    <tr style=\"text-align: right;\">\n",
       "      <th></th>\n",
       "      <th>deal_voucher_id</th>\n",
       "      <th>claid_prompt</th>\n",
       "      <th>status</th>\n",
       "      <th>original_image_id</th>\n",
       "      <th>variant_image_id</th>\n",
       "      <th>batch_name</th>\n",
       "      <th>enter_test_ts</th>\n",
       "      <th>exit_test_ts</th>\n",
       "      <th>list_name</th>\n",
       "      <th>s3_url</th>\n",
       "      <th>original_url</th>\n",
       "    </tr>\n",
       "  </thead>\n",
       "  <tbody>\n",
       "    <tr>\n",
       "      <th>0</th>\n",
       "      <td>40664131</td>\n",
       "      <td></td>\n",
       "      <td>1</td>\n",
       "      <td>1644560</td>\n",
       "      <td>164456000000</td>\n",
       "      <td>OPEN AI Images</td>\n",
       "      <td>2025-06-10 08:58:21</td>\n",
       "      <td>None</td>\n",
       "      <td>imgv_list_wow_uk</td>\n",
       "      <td>https://static.wowcher.co.uk/images/deal/40664...</td>\n",
       "      <td>https://static.wowcher.co.uk/images/deal/40664...</td>\n",
       "    </tr>\n",
       "    <tr>\n",
       "      <th>2</th>\n",
       "      <td>39966439</td>\n",
       "      <td></td>\n",
       "      <td>1</td>\n",
       "      <td>1593894</td>\n",
       "      <td>159389400000</td>\n",
       "      <td>OPEN AI Images</td>\n",
       "      <td>2025-06-10 08:58:21</td>\n",
       "      <td>None</td>\n",
       "      <td>imgv_list_wow_uk</td>\n",
       "      <td>https://static.wowcher.co.uk/images/deal/39966...</td>\n",
       "      <td>https://static.wowcher.co.uk/images/deal/39966...</td>\n",
       "    </tr>\n",
       "    <tr>\n",
       "      <th>5</th>\n",
       "      <td>30012921</td>\n",
       "      <td></td>\n",
       "      <td>1</td>\n",
       "      <td>1226501</td>\n",
       "      <td>122650100000</td>\n",
       "      <td>OPEN AI Images</td>\n",
       "      <td>2025-06-10 08:58:21</td>\n",
       "      <td>None</td>\n",
       "      <td>imgv_list_wow_uk</td>\n",
       "      <td>https://static.wowcher.co.uk/images/deal/30012...</td>\n",
       "      <td>https://static.wowcher.co.uk/images/deal/30012...</td>\n",
       "    </tr>\n",
       "    <tr>\n",
       "      <th>10</th>\n",
       "      <td>40047883</td>\n",
       "      <td></td>\n",
       "      <td>1</td>\n",
       "      <td>1599920</td>\n",
       "      <td>159992000000</td>\n",
       "      <td>OPEN AI Images</td>\n",
       "      <td>2025-06-10 08:58:21</td>\n",
       "      <td>None</td>\n",
       "      <td>imgv_list_wow_uk</td>\n",
       "      <td>https://static.wowcher.co.uk/images/deal/40047...</td>\n",
       "      <td>https://static.wowcher.co.uk/images/deal/40047...</td>\n",
       "    </tr>\n",
       "    <tr>\n",
       "      <th>11</th>\n",
       "      <td>40511428</td>\n",
       "      <td></td>\n",
       "      <td>1</td>\n",
       "      <td>1630603</td>\n",
       "      <td>163060300000</td>\n",
       "      <td>OPEN AI Images</td>\n",
       "      <td>2025-06-10 08:58:21</td>\n",
       "      <td>None</td>\n",
       "      <td>imgv_list_wow_uk</td>\n",
       "      <td>https://static.wowcher.co.uk/images/deal/40511...</td>\n",
       "      <td>https://static.wowcher.co.uk/images/deal/40511...</td>\n",
       "    </tr>\n",
       "  </tbody>\n",
       "</table>\n",
       "</div>"
      ],
      "text/plain": [
       "    deal_voucher_id claid_prompt  status  original_image_id  variant_image_id  \\\n",
       "0          40664131                    1            1644560      164456000000   \n",
       "2          39966439                    1            1593894      159389400000   \n",
       "5          30012921                    1            1226501      122650100000   \n",
       "10         40047883                    1            1599920      159992000000   \n",
       "11         40511428                    1            1630603      163060300000   \n",
       "\n",
       "        batch_name        enter_test_ts exit_test_ts         list_name  \\\n",
       "0   OPEN AI Images  2025-06-10 08:58:21         None  imgv_list_wow_uk   \n",
       "2   OPEN AI Images  2025-06-10 08:58:21         None  imgv_list_wow_uk   \n",
       "5   OPEN AI Images  2025-06-10 08:58:21         None  imgv_list_wow_uk   \n",
       "10  OPEN AI Images  2025-06-10 08:58:21         None  imgv_list_wow_uk   \n",
       "11  OPEN AI Images  2025-06-10 08:58:21         None  imgv_list_wow_uk   \n",
       "\n",
       "                                               s3_url  \\\n",
       "0   https://static.wowcher.co.uk/images/deal/40664...   \n",
       "2   https://static.wowcher.co.uk/images/deal/39966...   \n",
       "5   https://static.wowcher.co.uk/images/deal/30012...   \n",
       "10  https://static.wowcher.co.uk/images/deal/40047...   \n",
       "11  https://static.wowcher.co.uk/images/deal/40511...   \n",
       "\n",
       "                                         original_url  \n",
       "0   https://static.wowcher.co.uk/images/deal/40664...  \n",
       "2   https://static.wowcher.co.uk/images/deal/39966...  \n",
       "5   https://static.wowcher.co.uk/images/deal/30012...  \n",
       "10  https://static.wowcher.co.uk/images/deal/40047...  \n",
       "11  https://static.wowcher.co.uk/images/deal/40511...  "
      ]
     },
     "execution_count": 38,
     "metadata": {},
     "output_type": "execute_result"
    }
   ],
   "source": [
    "# Prepare the data for Redshift\n",
    "redshift_df = prepare_for_redshift(approved_df)\n",
    "\n",
    "# Display the first few rows of the prepared data\n",
    "redshift_df.head()"
   ]
  },
  {
   "cell_type": "markdown",
   "metadata": {},
   "source": [
    "## 3. Copy variants to S3 with new variant IDs"
   ]
  },
  {
   "cell_type": "code",
   "execution_count": 39,
   "metadata": {},
   "outputs": [
    {
     "name": "stdout",
     "output_type": "stream",
     "text": [
      "Connecting to S3...\n"
     ]
    },
    {
     "name": "stderr",
     "output_type": "stream",
     "text": [
      "Copying Variants to S3: 100%|██████████| 140/140 [00:35<00:00,  4.00it/s]"
     ]
    },
    {
     "name": "stdout",
     "output_type": "stream",
     "text": [
      "Successfully copied 140 of 140 variants to S3\n",
      "Saved processed data to processed_approved_variants.csv\n",
      "Successfully processed 140 of 140 variants\n"
     ]
    },
    {
     "name": "stderr",
     "output_type": "stream",
     "text": [
      "\n"
     ]
    }
   ],
   "source": [
    "# Copy the variants to S3\n",
    "processed_df = copy_approved_variants_to_s3(redshift_df)\n",
    "\n",
    "# Display a summary of the processed data\n",
    "success_count = processed_df['processed_status'].sum()\n",
    "print(f\"Successfully processed {success_count} of {len(processed_df)} variants\")"
   ]
  },
  {
   "cell_type": "markdown",
   "metadata": {},
   "source": [
    "## 4. Upload prepared data to S3 for Redshift"
   ]
  },
  {
   "cell_type": "code",
   "execution_count": 40,
   "metadata": {},
   "outputs": [
    {
     "name": "stdout",
     "output_type": "stream",
     "text": [
      "Preparing data for Redshift...\n",
      "Saved Redshift data to redshift_upload_data.csv\n",
      "Uploaded data to S3: https://static.wowcher.co.uk/temp/ai_image_variants_20250610090956.csv\n",
      "Successfully uploaded data to S3: https://static.wowcher.co.uk/temp/ai_image_variants_20250610090956.csv\n"
     ]
    }
   ],
   "source": [
    "# Upload the prepared data to S3 for Redshift\n",
    "s3_url = upload_to_s3_for_redshift(processed_df)\n",
    "\n",
    "if s3_url:\n",
    "    print(f\"Successfully uploaded data to S3: {s3_url}\")\n",
    "else:\n",
    "    print(\"Failed to upload data to S3\")"
   ]
  },
  {
   "cell_type": "markdown",
   "metadata": {},
   "source": [
    "## 5. Copy data from S3 to Redshift"
   ]
  },
  {
   "cell_type": "code",
   "execution_count": 41,
   "metadata": {},
   "outputs": [
    {
     "name": "stdout",
     "output_type": "stream",
     "text": [
      "Copying data to Redshift...\n",
      "Successfully copied 3737 rows to Redshift table\n",
      "Successfully copied data to Redshift\n"
     ]
    }
   ],
   "source": [
    "# Only proceed if we have a valid S3 URL\n",
    "if s3_url:\n",
    "    # Copy the data from S3 to Redshift\n",
    "    success = copy_s3_to_redshift(s3_url)    \n",
    "    if success:\n",
    "        print(\"Successfully copied data to Redshift\")\n",
    "    else:\n",
    "        print(\"Failed to copy data to Redshift\")\n",
    "else:\n",
    "    print(\"Skipping Redshift update due to missing S3 URL\")\n",
    "    \n",
    "    "
   ]
  },
  {
   "cell_type": "markdown",
   "metadata": {},
   "source": [
    "## 6. Update the image list in the API"
   ]
  },
  {
   "cell_type": "code",
   "execution_count": 42,
   "metadata": {},
   "outputs": [
    {
     "name": "stdout",
     "output_type": "stream",
     "text": [
      "Updating image list in API...\n",
      "Found 4678 unique images to add to list\n",
      "Successfully updated test list with 4678 images\n",
      "Successfully updated the image list in the API\n"
     ]
    }
   ],
   "source": [
    "# Only proceed if we successfully copied to Redshift\n",
    "if 'success' in locals() and success:\n",
    "    # Update the image list in the API\n",
    "    result = update_image_list()\n",
    "    if result:\n",
    "        print(\"Successfully updated the image list in the API\")\n",
    "    else:\n",
    "        print(\"Failed to update the image list in the API\")\n",
    "else:\n",
    "    print(\"Skipping API update due to failed Redshift update\")"
   ]
  },
  {
   "cell_type": "markdown",
   "metadata": {},
   "source": [
    "## Processing Complete\n",
    "\n",
    "All approved variant images have been processed, copied to S3, added to Redshift, and the API has been updated."
   ]
  },
  {
   "cell_type": "markdown",
   "metadata": {},
   "source": [
    "# Purge Cache on image urls. Usefull if making images where a variant already existed and now need it to show the new variant\n"
   ]
  },
  {
   "cell_type": "code",
   "execution_count": 50,
   "metadata": {},
   "outputs": [
    {
     "name": "stderr",
     "output_type": "stream",
     "text": [
      "/var/folders/dk/zpttw0wn0192zryb4bdz19lr0000gn/T/ipykernel_70969/2053389872.py:25: UserWarning: pandas only supports SQLAlchemy connectable (engine/connection) or database string URI or sqlite3 DBAPI2 connection. Other DBAPI2 objects are not tested. Please consider using SQLAlchemy.\n",
      "  urls =  pd.read_sql_query(sql, conn)['url'].to_list()\n"
     ]
    }
   ],
   "source": [
    "import psycopg2\n",
    "import pandas as pd\n",
    "\n",
    "sql = \"\"\"\n",
    "\n",
    "select \n",
    "'https://static.wowcher.co.uk/images/deal/'||oiv.deal_voucher_id||'/'||oiv.original_image_id||'00000.'||dvi.extension as url\n",
    "from temp.opt_image_variants oiv\n",
    "join real.deal_voucher_image dvi on dvi.id = oiv.original_image_id\n",
    "where oiv.status = 1\n",
    "\"\"\"\n",
    "\n",
    "REDSHIFT_CONFIG = {\n",
    "    'host': 'bi-redshift.intwowcher.co.uk',\n",
    "    'port': 5439,\n",
    "    'dbname': 'wowdwhprod',\n",
    "    'user': 'jenkins',\n",
    "    'password': '9SDy1ffdfTV7'\n",
    "}\n",
    "\n",
    "\n",
    "conn = psycopg2.connect(**REDSHIFT_CONFIG)\n",
    "\n",
    "# Use pandas to read SQL query\n",
    "urls =  pd.read_sql_query(sql, conn)['url'].to_list()\n",
    "\n",
    "# Close connection\n",
    "conn.close()"
   ]
  },
  {
   "cell_type": "code",
   "execution_count": null,
   "metadata": {},
   "outputs": [],
   "source": [
    "import psycopg2\n",
    "import pandas as pd\n",
    "\n",
    "sql = \"\"\"\n",
    "WITH deal_views AS (\n",
    "    -- Get the earliest deal view for each visitor/visit/deal combination\n",
    "    SELECT visitor_id,\n",
    "           visit_num,\n",
    "           deal_id_evar,\n",
    "           MIN(date_time) as deal_view_time\n",
    "    FROM real.omniture_events\n",
    "    WHERE event_list ILIKE '%236%'\n",
    "    GROUP BY visitor_id, visit_num, deal_id_evar),\n",
    "\n",
    "     visitor_actions AS (\n",
    "         -- Get see more clicks, terms clicks, and purchases for each visitor/visit/deal\n",
    "         SELECT visitor_id,\n",
    "                visit_num,\n",
    "                deal_id_evar,\n",
    "                MAX(CASE WHEN page_event_var2 = 'see_more_button_click' THEN 1 ELSE 0 END) = 1 as clicked_view_more,\n",
    "                MAX(CASE WHEN page_event_var2 = 'fine_print_clicked' THEN 1 ELSE 0 END) = 1    as clicked_tcs,\n",
    "                MAX(CASE WHEN page_event_var2 = 'RE COMPLETED PURCHASE' THEN 1 ELSE 0 END) = 1 as purchased,\n",
    "                MAX(CASE\n",
    "                        WHEN page_event_var2 = 'RE COMPLETED PURCHASE'\n",
    "                            THEN product_order_id_evar END)                                    as product_order_id_evar\n",
    "         FROM real.omniture_events\n",
    "         WHERE page_event_var2 IN ('see_more_button_click', 'fine_print_clicked', 'RE COMPLETED PURCHASE')\n",
    "         GROUP BY visitor_id, visit_num, deal_id_evar)\n",
    "SELECT dv.visitor_id,\n",
    "       dv.visit_num,\n",
    "       dv.deal_id_evar,\n",
    "       dv.deal_view_time,\n",
    "       COALESCE(va.clicked_view_more, FALSE) as clicked_view_more,\n",
    "       COALESCE(va.clicked_tcs, FALSE)       as clicked_tcs,\n",
    "       COALESCE(va.purchased, FALSE)         as purchased,\n",
    "       va.product_order_id_evar,\n",
    "       t.net,\n",
    "       dvc.name,\n",
    "       dvc.canonical_path_type               as vertical\n",
    "\n",
    "FROM deal_views dv\n",
    "         INNER JOIN visitor_actions va\n",
    "                    ON dv.visitor_id = va.visitor_id\n",
    "                        AND dv.visit_num = va.visit_num\n",
    "                        AND va.deal_id_evar ILIKE '%' || dv.deal_id_evar || '%'\n",
    "         join real.deal_voucher rdv on rdv.id = dv.deal_id_evar\n",
    "         join real.deal_voucher_category dvc on dvc.id = rdv.category_id\n",
    "         left join real.transactions t on t.deal_id = dv.deal_id_evar and va.product_order_id_evar = t.product_order_id\n",
    "ORDER BY dv.deal_view_time desc;\n",
    "\"\"\"\n",
    "\n",
    "REDSHIFT_CONFIG = {\n",
    "    'host': 'bi-redshift.intwowcher.co.uk',\n",
    "    'port': 5439,\n",
    "    'dbname': 'wowdwhprod',\n",
    "    'user': 'jenkins',\n",
    "    'password': '9SDy1ffdfTV7'\n",
    "}\n",
    "\n",
    "\n",
    "conn = psycopg2.connect(**REDSHIFT_CONFIG)\n",
    "\n",
    "# Use pandas to read SQL query\n",
    "urls =  pd.read_sql_query(sql, conn)\n",
    "\n",
    "# Close connection\n",
    "conn.close()"
   ]
  },
  {
   "cell_type": "code",
   "execution_count": null,
   "metadata": {},
   "outputs": [
    {
     "name": "stdout",
     "output_type": "stream",
     "text": [
      "{'success': True, 'errors': [], 'messages': [], 'result': {'id': '4fec7e02d5c45deb9f67452873708896'}}\n",
      "{'success': True, 'errors': [], 'messages': [], 'result': {'id': '4fec7e02d5c45deb9f67452873708896'}}\n",
      "{'success': True, 'errors': [], 'messages': [], 'result': {'id': '4fec7e02d5c45deb9f67452873708896'}}\n",
      "{'success': True, 'errors': [], 'messages': [], 'result': {'id': '4fec7e02d5c45deb9f67452873708896'}}\n",
      "{'success': True, 'errors': [], 'messages': [], 'result': {'id': '4fec7e02d5c45deb9f67452873708896'}}\n",
      "{'success': True, 'errors': [], 'messages': [], 'result': {'id': '4fec7e02d5c45deb9f67452873708896'}}\n",
      "{'success': True, 'errors': [], 'messages': [], 'result': {'id': '4fec7e02d5c45deb9f67452873708896'}}\n",
      "{'success': True, 'errors': [], 'messages': [], 'result': {'id': '4fec7e02d5c45deb9f67452873708896'}}\n",
      "{'success': True, 'errors': [], 'messages': [], 'result': {'id': '4fec7e02d5c45deb9f67452873708896'}}\n",
      "{'success': True, 'errors': [], 'messages': [], 'result': {'id': '4fec7e02d5c45deb9f67452873708896'}}\n",
      "{'success': True, 'errors': [], 'messages': [], 'result': {'id': '4fec7e02d5c45deb9f67452873708896'}}\n",
      "{'success': True, 'errors': [], 'messages': [], 'result': {'id': '4fec7e02d5c45deb9f67452873708896'}}\n",
      "{'success': True, 'errors': [], 'messages': [], 'result': {'id': '4fec7e02d5c45deb9f67452873708896'}}\n",
      "{'success': True, 'errors': [], 'messages': [], 'result': {'id': '4fec7e02d5c45deb9f67452873708896'}}\n",
      "{'success': True, 'errors': [], 'messages': [], 'result': {'id': '4fec7e02d5c45deb9f67452873708896'}}\n",
      "{'success': True, 'errors': [], 'messages': [], 'result': {'id': '4fec7e02d5c45deb9f67452873708896'}}\n",
      "{'success': True, 'errors': [], 'messages': [], 'result': {'id': '4fec7e02d5c45deb9f67452873708896'}}\n",
      "{'success': True, 'errors': [], 'messages': [], 'result': {'id': '4fec7e02d5c45deb9f67452873708896'}}\n",
      "{'success': True, 'errors': [], 'messages': [], 'result': {'id': '4fec7e02d5c45deb9f67452873708896'}}\n",
      "{'success': True, 'errors': [], 'messages': [], 'result': {'id': '4fec7e02d5c45deb9f67452873708896'}}\n",
      "{'success': True, 'errors': [], 'messages': [], 'result': {'id': '4fec7e02d5c45deb9f67452873708896'}}\n",
      "{'success': True, 'errors': [], 'messages': [], 'result': {'id': '4fec7e02d5c45deb9f67452873708896'}}\n",
      "{'success': True, 'errors': [], 'messages': [], 'result': {'id': '4fec7e02d5c45deb9f67452873708896'}}\n",
      "{'success': True, 'errors': [], 'messages': [], 'result': {'id': '4fec7e02d5c45deb9f67452873708896'}}\n",
      "{'success': True, 'errors': [], 'messages': [], 'result': {'id': '4fec7e02d5c45deb9f67452873708896'}}\n",
      "{'success': True, 'errors': [], 'messages': [], 'result': {'id': '4fec7e02d5c45deb9f67452873708896'}}\n",
      "{'success': True, 'errors': [], 'messages': [], 'result': {'id': '4fec7e02d5c45deb9f67452873708896'}}\n",
      "{'success': True, 'errors': [], 'messages': [], 'result': {'id': '4fec7e02d5c45deb9f67452873708896'}}\n",
      "{'success': True, 'errors': [], 'messages': [], 'result': {'id': '4fec7e02d5c45deb9f67452873708896'}}\n",
      "{'success': True, 'errors': [], 'messages': [], 'result': {'id': '4fec7e02d5c45deb9f67452873708896'}}\n",
      "{'success': True, 'errors': [], 'messages': [], 'result': {'id': '4fec7e02d5c45deb9f67452873708896'}}\n",
      "{'success': True, 'errors': [], 'messages': [], 'result': {'id': '4fec7e02d5c45deb9f67452873708896'}}\n",
      "{'success': True, 'errors': [], 'messages': [], 'result': {'id': '4fec7e02d5c45deb9f67452873708896'}}\n",
      "{'success': True, 'errors': [], 'messages': [], 'result': {'id': '4fec7e02d5c45deb9f67452873708896'}}\n",
      "{'success': True, 'errors': [], 'messages': [], 'result': {'id': '4fec7e02d5c45deb9f67452873708896'}}\n",
      "{'success': True, 'errors': [], 'messages': [], 'result': {'id': '4fec7e02d5c45deb9f67452873708896'}}\n",
      "{'success': True, 'errors': [], 'messages': [], 'result': {'id': '4fec7e02d5c45deb9f67452873708896'}}\n",
      "{'success': True, 'errors': [], 'messages': [], 'result': {'id': '4fec7e02d5c45deb9f67452873708896'}}\n",
      "{'success': True, 'errors': [], 'messages': [], 'result': {'id': '4fec7e02d5c45deb9f67452873708896'}}\n",
      "{'success': True, 'errors': [], 'messages': [], 'result': {'id': '4fec7e02d5c45deb9f67452873708896'}}\n",
      "{'success': True, 'errors': [], 'messages': [], 'result': {'id': '4fec7e02d5c45deb9f67452873708896'}}\n",
      "{'success': True, 'errors': [], 'messages': [], 'result': {'id': '4fec7e02d5c45deb9f67452873708896'}}\n",
      "{'success': True, 'errors': [], 'messages': [], 'result': {'id': '4fec7e02d5c45deb9f67452873708896'}}\n",
      "{'success': True, 'errors': [], 'messages': [], 'result': {'id': '4fec7e02d5c45deb9f67452873708896'}}\n",
      "{'success': True, 'errors': [], 'messages': [], 'result': {'id': '4fec7e02d5c45deb9f67452873708896'}}\n",
      "{'success': True, 'errors': [], 'messages': [], 'result': {'id': '4fec7e02d5c45deb9f67452873708896'}}\n",
      "{'success': True, 'errors': [], 'messages': [], 'result': {'id': '4fec7e02d5c45deb9f67452873708896'}}\n",
      "{'success': True, 'errors': [], 'messages': [], 'result': {'id': '4fec7e02d5c45deb9f67452873708896'}}\n",
      "{'success': True, 'errors': [], 'messages': [], 'result': {'id': '4fec7e02d5c45deb9f67452873708896'}}\n",
      "{'success': True, 'errors': [], 'messages': [], 'result': {'id': '4fec7e02d5c45deb9f67452873708896'}}\n",
      "{'success': True, 'errors': [], 'messages': [], 'result': {'id': '4fec7e02d5c45deb9f67452873708896'}}\n",
      "{'success': True, 'errors': [], 'messages': [], 'result': {'id': '4fec7e02d5c45deb9f67452873708896'}}\n",
      "{'success': True, 'errors': [], 'messages': [], 'result': {'id': '4fec7e02d5c45deb9f67452873708896'}}\n",
      "{'success': True, 'errors': [], 'messages': [], 'result': {'id': '4fec7e02d5c45deb9f67452873708896'}}\n",
      "{'success': True, 'errors': [], 'messages': [], 'result': {'id': '4fec7e02d5c45deb9f67452873708896'}}\n",
      "{'success': True, 'errors': [], 'messages': [], 'result': {'id': '4fec7e02d5c45deb9f67452873708896'}}\n",
      "{'success': True, 'errors': [], 'messages': [], 'result': {'id': '4fec7e02d5c45deb9f67452873708896'}}\n",
      "{'success': True, 'errors': [], 'messages': [], 'result': {'id': '4fec7e02d5c45deb9f67452873708896'}}\n",
      "{'success': True, 'errors': [], 'messages': [], 'result': {'id': '4fec7e02d5c45deb9f67452873708896'}}\n",
      "{'success': True, 'errors': [], 'messages': [], 'result': {'id': '4fec7e02d5c45deb9f67452873708896'}}\n",
      "{'success': True, 'errors': [], 'messages': [], 'result': {'id': '4fec7e02d5c45deb9f67452873708896'}}\n",
      "{'success': True, 'errors': [], 'messages': [], 'result': {'id': '4fec7e02d5c45deb9f67452873708896'}}\n",
      "{'success': True, 'errors': [], 'messages': [], 'result': {'id': '4fec7e02d5c45deb9f67452873708896'}}\n",
      "{'success': True, 'errors': [], 'messages': [], 'result': {'id': '4fec7e02d5c45deb9f67452873708896'}}\n",
      "{'success': True, 'errors': [], 'messages': [], 'result': {'id': '4fec7e02d5c45deb9f67452873708896'}}\n",
      "{'success': True, 'errors': [], 'messages': [], 'result': {'id': '4fec7e02d5c45deb9f67452873708896'}}\n",
      "{'success': True, 'errors': [], 'messages': [], 'result': {'id': '4fec7e02d5c45deb9f67452873708896'}}\n",
      "{'success': True, 'errors': [], 'messages': [], 'result': {'id': '4fec7e02d5c45deb9f67452873708896'}}\n",
      "{'success': True, 'errors': [], 'messages': [], 'result': {'id': '4fec7e02d5c45deb9f67452873708896'}}\n",
      "{'success': True, 'errors': [], 'messages': [], 'result': {'id': '4fec7e02d5c45deb9f67452873708896'}}\n",
      "{'success': True, 'errors': [], 'messages': [], 'result': {'id': '4fec7e02d5c45deb9f67452873708896'}}\n",
      "{'success': True, 'errors': [], 'messages': [], 'result': {'id': '4fec7e02d5c45deb9f67452873708896'}}\n",
      "{'success': True, 'errors': [], 'messages': [], 'result': {'id': '4fec7e02d5c45deb9f67452873708896'}}\n",
      "{'success': True, 'errors': [], 'messages': [], 'result': {'id': '4fec7e02d5c45deb9f67452873708896'}}\n",
      "{'success': True, 'errors': [], 'messages': [], 'result': {'id': '4fec7e02d5c45deb9f67452873708896'}}\n",
      "{'success': True, 'errors': [], 'messages': [], 'result': {'id': '4fec7e02d5c45deb9f67452873708896'}}\n",
      "{'success': True, 'errors': [], 'messages': [], 'result': {'id': '4fec7e02d5c45deb9f67452873708896'}}\n",
      "{'success': True, 'errors': [], 'messages': [], 'result': {'id': '4fec7e02d5c45deb9f67452873708896'}}\n",
      "{'success': True, 'errors': [], 'messages': [], 'result': {'id': '4fec7e02d5c45deb9f67452873708896'}}\n",
      "{'success': True, 'errors': [], 'messages': [], 'result': {'id': '4fec7e02d5c45deb9f67452873708896'}}\n",
      "{'success': True, 'errors': [], 'messages': [], 'result': {'id': '4fec7e02d5c45deb9f67452873708896'}}\n",
      "{'success': True, 'errors': [], 'messages': [], 'result': {'id': '4fec7e02d5c45deb9f67452873708896'}}\n",
      "{'success': True, 'errors': [], 'messages': [], 'result': {'id': '4fec7e02d5c45deb9f67452873708896'}}\n",
      "{'success': True, 'errors': [], 'messages': [], 'result': {'id': '4fec7e02d5c45deb9f67452873708896'}}\n",
      "{'success': True, 'errors': [], 'messages': [], 'result': {'id': '4fec7e02d5c45deb9f67452873708896'}}\n",
      "{'success': True, 'errors': [], 'messages': [], 'result': {'id': '4fec7e02d5c45deb9f67452873708896'}}\n",
      "{'success': True, 'errors': [], 'messages': [], 'result': {'id': '4fec7e02d5c45deb9f67452873708896'}}\n",
      "{'success': True, 'errors': [], 'messages': [], 'result': {'id': '4fec7e02d5c45deb9f67452873708896'}}\n",
      "{'success': True, 'errors': [], 'messages': [], 'result': {'id': '4fec7e02d5c45deb9f67452873708896'}}\n",
      "{'success': True, 'errors': [], 'messages': [], 'result': {'id': '4fec7e02d5c45deb9f67452873708896'}}\n",
      "{'success': True, 'errors': [], 'messages': [], 'result': {'id': '4fec7e02d5c45deb9f67452873708896'}}\n",
      "{'success': True, 'errors': [], 'messages': [], 'result': {'id': '4fec7e02d5c45deb9f67452873708896'}}\n",
      "{'success': True, 'errors': [], 'messages': [], 'result': {'id': '4fec7e02d5c45deb9f67452873708896'}}\n",
      "{'success': True, 'errors': [], 'messages': [], 'result': {'id': '4fec7e02d5c45deb9f67452873708896'}}\n",
      "{'success': True, 'errors': [], 'messages': [], 'result': {'id': '4fec7e02d5c45deb9f67452873708896'}}\n",
      "{'success': True, 'errors': [], 'messages': [], 'result': {'id': '4fec7e02d5c45deb9f67452873708896'}}\n",
      "{'success': True, 'errors': [], 'messages': [], 'result': {'id': '4fec7e02d5c45deb9f67452873708896'}}\n",
      "{'success': True, 'errors': [], 'messages': [], 'result': {'id': '4fec7e02d5c45deb9f67452873708896'}}\n",
      "{'success': True, 'errors': [], 'messages': [], 'result': {'id': '4fec7e02d5c45deb9f67452873708896'}}\n",
      "{'success': True, 'errors': [], 'messages': [], 'result': {'id': '4fec7e02d5c45deb9f67452873708896'}}\n",
      "{'success': True, 'errors': [], 'messages': [], 'result': {'id': '4fec7e02d5c45deb9f67452873708896'}}\n",
      "{'success': True, 'errors': [], 'messages': [], 'result': {'id': '4fec7e02d5c45deb9f67452873708896'}}\n",
      "{'success': True, 'errors': [], 'messages': [], 'result': {'id': '4fec7e02d5c45deb9f67452873708896'}}\n",
      "{'success': True, 'errors': [], 'messages': [], 'result': {'id': '4fec7e02d5c45deb9f67452873708896'}}\n",
      "{'success': True, 'errors': [], 'messages': [], 'result': {'id': '4fec7e02d5c45deb9f67452873708896'}}\n",
      "{'success': True, 'errors': [], 'messages': [], 'result': {'id': '4fec7e02d5c45deb9f67452873708896'}}\n",
      "{'success': True, 'errors': [], 'messages': [], 'result': {'id': '4fec7e02d5c45deb9f67452873708896'}}\n",
      "{'success': True, 'errors': [], 'messages': [], 'result': {'id': '4fec7e02d5c45deb9f67452873708896'}}\n",
      "{'success': True, 'errors': [], 'messages': [], 'result': {'id': '4fec7e02d5c45deb9f67452873708896'}}\n",
      "{'success': True, 'errors': [], 'messages': [], 'result': {'id': '4fec7e02d5c45deb9f67452873708896'}}\n",
      "{'success': True, 'errors': [], 'messages': [], 'result': {'id': '4fec7e02d5c45deb9f67452873708896'}}\n",
      "{'success': True, 'errors': [], 'messages': [], 'result': {'id': '4fec7e02d5c45deb9f67452873708896'}}\n",
      "{'success': True, 'errors': [], 'messages': [], 'result': {'id': '4fec7e02d5c45deb9f67452873708896'}}\n",
      "{'success': True, 'errors': [], 'messages': [], 'result': {'id': '4fec7e02d5c45deb9f67452873708896'}}\n",
      "{'success': True, 'errors': [], 'messages': [], 'result': {'id': '4fec7e02d5c45deb9f67452873708896'}}\n",
      "{'success': True, 'errors': [], 'messages': [], 'result': {'id': '4fec7e02d5c45deb9f67452873708896'}}\n",
      "{'success': True, 'errors': [], 'messages': [], 'result': {'id': '4fec7e02d5c45deb9f67452873708896'}}\n",
      "{'success': True, 'errors': [], 'messages': [], 'result': {'id': '4fec7e02d5c45deb9f67452873708896'}}\n",
      "{'success': True, 'errors': [], 'messages': [], 'result': {'id': '4fec7e02d5c45deb9f67452873708896'}}\n",
      "{'success': True, 'errors': [], 'messages': [], 'result': {'id': '4fec7e02d5c45deb9f67452873708896'}}\n",
      "{'success': True, 'errors': [], 'messages': [], 'result': {'id': '4fec7e02d5c45deb9f67452873708896'}}\n",
      "{'success': True, 'errors': [], 'messages': [], 'result': {'id': '4fec7e02d5c45deb9f67452873708896'}}\n",
      "{'success': True, 'errors': [], 'messages': [], 'result': {'id': '4fec7e02d5c45deb9f67452873708896'}}\n",
      "{'success': True, 'errors': [], 'messages': [], 'result': {'id': '4fec7e02d5c45deb9f67452873708896'}}\n",
      "{'success': True, 'errors': [], 'messages': [], 'result': {'id': '4fec7e02d5c45deb9f67452873708896'}}\n",
      "{'success': True, 'errors': [], 'messages': [], 'result': {'id': '4fec7e02d5c45deb9f67452873708896'}}\n",
      "{'success': True, 'errors': [], 'messages': [], 'result': {'id': '4fec7e02d5c45deb9f67452873708896'}}\n",
      "{'success': True, 'errors': [], 'messages': [], 'result': {'id': '4fec7e02d5c45deb9f67452873708896'}}\n",
      "{'success': True, 'errors': [], 'messages': [], 'result': {'id': '4fec7e02d5c45deb9f67452873708896'}}\n",
      "{'success': True, 'errors': [], 'messages': [], 'result': {'id': '4fec7e02d5c45deb9f67452873708896'}}\n",
      "{'success': True, 'errors': [], 'messages': [], 'result': {'id': '4fec7e02d5c45deb9f67452873708896'}}\n",
      "{'success': True, 'errors': [], 'messages': [], 'result': {'id': '4fec7e02d5c45deb9f67452873708896'}}\n",
      "{'success': True, 'errors': [], 'messages': [], 'result': {'id': '4fec7e02d5c45deb9f67452873708896'}}\n",
      "{'success': True, 'errors': [], 'messages': [], 'result': {'id': '4fec7e02d5c45deb9f67452873708896'}}\n",
      "{'success': True, 'errors': [], 'messages': [], 'result': {'id': '4fec7e02d5c45deb9f67452873708896'}}\n",
      "{'success': True, 'errors': [], 'messages': [], 'result': {'id': '4fec7e02d5c45deb9f67452873708896'}}\n",
      "{'success': True, 'errors': [], 'messages': [], 'result': {'id': '4fec7e02d5c45deb9f67452873708896'}}\n",
      "{'success': True, 'errors': [], 'messages': [], 'result': {'id': '4fec7e02d5c45deb9f67452873708896'}}\n",
      "{'success': True, 'errors': [], 'messages': [], 'result': {'id': '4fec7e02d5c45deb9f67452873708896'}}\n",
      "{'success': True, 'errors': [], 'messages': [], 'result': {'id': '4fec7e02d5c45deb9f67452873708896'}}\n",
      "{'success': True, 'errors': [], 'messages': [], 'result': {'id': '4fec7e02d5c45deb9f67452873708896'}}\n",
      "{'success': True, 'errors': [], 'messages': [], 'result': {'id': '4fec7e02d5c45deb9f67452873708896'}}\n",
      "{'success': True, 'errors': [], 'messages': [], 'result': {'id': '4fec7e02d5c45deb9f67452873708896'}}\n",
      "{'success': True, 'errors': [], 'messages': [], 'result': {'id': '4fec7e02d5c45deb9f67452873708896'}}\n",
      "{'success': True, 'errors': [], 'messages': [], 'result': {'id': '4fec7e02d5c45deb9f67452873708896'}}\n",
      "{'success': True, 'errors': [], 'messages': [], 'result': {'id': '4fec7e02d5c45deb9f67452873708896'}}\n",
      "{'success': True, 'errors': [], 'messages': [], 'result': {'id': '4fec7e02d5c45deb9f67452873708896'}}\n",
      "{'success': True, 'errors': [], 'messages': [], 'result': {'id': '4fec7e02d5c45deb9f67452873708896'}}\n",
      "{'success': True, 'errors': [], 'messages': [], 'result': {'id': '4fec7e02d5c45deb9f67452873708896'}}\n",
      "{'success': True, 'errors': [], 'messages': [], 'result': {'id': '4fec7e02d5c45deb9f67452873708896'}}\n",
      "{'success': True, 'errors': [], 'messages': [], 'result': {'id': '4fec7e02d5c45deb9f67452873708896'}}\n",
      "{'success': True, 'errors': [], 'messages': [], 'result': {'id': '4fec7e02d5c45deb9f67452873708896'}}\n",
      "{'success': True, 'errors': [], 'messages': [], 'result': {'id': '4fec7e02d5c45deb9f67452873708896'}}\n"
     ]
    }
   ],
   "source": [
    "import requests \n",
    "import json\n",
    "def purge_cache(image_urls):\n",
    "    chunk_size = 30 # cloudflare purge api takes max 30 urls per request\n",
    "    chunked_list = [image_urls[i:i+chunk_size] for i in range(0, len(image_urls), chunk_size)]\n",
    "    api_url = \"https://api.cloudflare.com/client/v4/zones/4fec7e02d5c45deb9f67452873708896/purge_cache\"\n",
    "    api_key = \"Bearer IT-Lr8A8LOipKdcGKkJU8Q5ciM8jfy3KbtfWkDnK\"\n",
    "    headers = {\"Authorization\": api_key,\n",
    "               \"Content-Type\":\"application/json\"\n",
    "               }\n",
    "    for chunk in chunked_list:\n",
    "        payload = {\"files\": []}\n",
    "        #print(\"Clearing cache of: \", chunk)\n",
    "        payload['files'] = chunk\n",
    "        response = requests.post(url=api_url, data=json.dumps(payload), headers=headers)\n",
    "        print(response.json())\n",
    "purge_cache(urls)\n",
    "\n"
   ]
  },
  {
   "cell_type": "code",
   "execution_count": null,
   "metadata": {},
   "outputs": [],
   "source": []
  }
 ],
 "metadata": {
  "kernelspec": {
   "display_name": "base",
   "language": "python",
   "name": "python3"
  },
  "language_info": {
   "codemirror_mode": {
    "name": "ipython",
    "version": 3
   },
   "file_extension": ".py",
   "mimetype": "text/x-python",
   "name": "python",
   "nbconvert_exporter": "python",
   "pygments_lexer": "ipython3",
   "version": "3.12.7"
  }
 },
 "nbformat": 4,
 "nbformat_minor": 4
}
