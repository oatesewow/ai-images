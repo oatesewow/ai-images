{
    "cells": [
     {
      "cell_type": "markdown",
      "metadata": {},
      "source": [
       "# Process Approved Variants\n",
       "\n",
       "This notebook:\n",
       "1. Loads approved variants from the CSV file\n",
       "2. Copies variants to S3 with new variant IDs (original ID * 100000)\n",
       "3. Updates the Redshift database\n",
       "4. Updates the API image list"
      ]
     },
     {
      "cell_type": "code",
      "execution_count": null,
      "metadata": {},
      "outputs": [],
      "source": [
       "# Import the module with all the functions\n",
       "from process_approved_variants import *"
      ]
     },
     {
      "cell_type": "markdown",
      "metadata": {},
      "source": [
       "## 1. Load and filter approved images"
      ]
     },
     {
      "cell_type": "code",
      "execution_count": null,
      "metadata": {},
      "outputs": [],
      "source": [
       "# Define the input CSV file\n",
       "csv_file = \"All500Approved.csv\"\n",
       "\n",
       "# Load and filter the approved images\n",
       "approved_df = load_and_filter_approved_images(csv_file)\n",
       "\n",
       "# Display the first few rows\n",
       "approved_df.head()"
      ]
     },
     {
      "cell_type": "markdown",
      "metadata": {},
      "source": [
       "## 2. Prepare data for Redshift"
      ]
     },
     {
      "cell_type": "code",
      "execution_count": null,
      "metadata": {},
      "outputs": [],
      "source": [
       "# Prepare the data for Redshift\n",
       "redshift_df = prepare_for_redshift(approved_df)\n",
       "\n",
       "# Display the first few rows of the prepared data\n",
       "redshift_df.head()"
      ]
     },
     {
      "cell_type": "markdown",
      "metadata": {},
      "source": [
       "## 3. Copy variants to S3 with new variant IDs"
      ]
     },
     {
      "cell_type": "code",
      "execution_count": null,
      "metadata": {},
      "outputs": [],
      "source": [
       "# Copy the variants to S3\n",
       "processed_df = copy_approved_variants_to_s3(redshift_df)\n",
       "\n",
       "# Display a summary of the processed data\n",
       "success_count = processed_df['processed_status'].sum()\n",
       "print(f\"Successfully processed {success_count} of {len(processed_df)} variants\")"
      ]
     },
     {
      "cell_type": "markdown",
      "metadata": {},
      "source": [
       "## 4. Upload prepared data to S3 for Redshift"
      ]
     },
     {
      "cell_type": "code",
      "execution_count": null,
      "metadata": {},
      "outputs": [],
      "source": [
       "# Upload the prepared data to S3 for Redshift\n",
       "s3_url = upload_to_s3_for_redshift(processed_df)\n",
       "\n",
       "if s3_url:\n",
       "    print(f\"Successfully uploaded data to S3: {s3_url}\")\n",
       "else:\n",
       "    print(\"Failed to upload data to S3\")"
      ]
     },
     {
      "cell_type": "markdown",
      "metadata": {},
      "source": [
       "## 5. Copy data from S3 to Redshift"
      ]
     },
     {
      "cell_type": "code",
      "execution_count": null,
      "metadata": {},
      "outputs": [],
      "source": [
       "# Only proceed if we have a valid S3 URL\n",
       "if s3_url:\n",
       "    # Copy the data from S3 to Redshift\n",
       "    success = copy_s3_to_redshift(s3_url)\n",
       "    \n",
       "    if success:\n",
       "        print(\"Successfully copied data to Redshift\")\n",
       "    else:\n",
       "        print(\"Failed to copy data to Redshift\")\n",
       "else:\n",
       "    print(\"Skipping Redshift update due to missing S3 URL\")"
      ]
     },
     {
      "cell_type": "markdown",
      "metadata": {},
      "source": [
       "## 6. Update the image list in the API"
      ]
     },
     {
      "cell_type": "code",
      "execution_count": null,
      "metadata": {},
      "outputs": [],
      "source": [
       "# Only proceed if we successfully copied to Redshift\n",
       "if 'success' in locals() and success:\n",
       "    # Update the image list in the API\n",
       "    result = update_image_list()\n",
       "    \n",
       "    if result:\n",
       "        print(\"Successfully updated the image list in the API\")\n",
       "    else:\n",
       "        print(\"Failed to update the image list in the API\")\n",
       "else:\n",
       "    print(\"Skipping API update due to failed Redshift update\")"
      ]
     },
     {
      "cell_type": "markdown",
      "metadata": {},
      "source": [
       "## Processing Complete\n",
       "\n",
       "All approved variant images have been processed, copied to S3, added to Redshift, and the API has been updated."
      ]
     }
    ],
    "metadata": {
     "kernelspec": {
      "display_name": "Python 3",
      "language": "python",
      "name": "python3"
     },
     "language_info": {
      "codemirror_mode": {
       "name": "ipython",
       "version": 3
      },
      "file_extension": ".py",
      "mimetype": "text/x-python",
      "name": "python",
      "nbconvert_exporter": "python",
      "pygments_lexer": "ipython3",
      "version": "3.9.1"
     }
    },
    "nbformat": 4,
    "nbformat_minor": 4
   } 